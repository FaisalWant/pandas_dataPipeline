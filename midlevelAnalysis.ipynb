{
  "nbformat": 4,
  "nbformat_minor": 0,
  "metadata": {
    "colab": {
      "provenance": [],
      "collapsed_sections": [],
      "mount_file_id": "1PWKWsWGa4FvV8rQAAmyO0NLsErJqaN2s",
      "authorship_tag": "ABX9TyOHA6h7AhYrBnrGWHsS9OHs",
      "include_colab_link": true
    },
    "kernelspec": {
      "name": "python3",
      "display_name": "Python 3"
    },
    "language_info": {
      "name": "python"
    }
  },
  "cells": [
    {
      "cell_type": "markdown",
      "metadata": {
        "id": "view-in-github",
        "colab_type": "text"
      },
      "source": [
        "<a href=\"https://colab.research.google.com/github/FaisalWant/pandas_dataPipeline/blob/main/midlevelAnalysis.ipynb\" target=\"_parent\"><img src=\"https://colab.research.google.com/assets/colab-badge.svg\" alt=\"Open In Colab\"/></a>"
      ]
    },
    {
      "cell_type": "code",
      "execution_count": null,
      "metadata": {
        "colab": {
          "base_uri": "https://localhost:8080/"
        },
        "id": "e5tB2VUnXv3d",
        "outputId": "6682b5d3-2624-4621-f70b-982b6952f92f"
      },
      "outputs": [
        {
          "output_type": "execute_result",
          "data": {
            "text/plain": [
              "0       5000/8946480/S0107\n",
              "1       5000/8946484/S0107\n",
              "2      BMSCH/1001131/H1440\n",
              "3      BMSCH/1001131/H1868\n",
              "4      BMSCH/1001132/S0404\n",
              "              ...         \n",
              "515      SMC/8018030/H1440\n",
              "516      SMC/8018030/H1868\n",
              "517      SMC/8946342/S1628\n",
              "518      SMC/8946342/S1629\n",
              "519      SMC/8946342/S1630\n",
              "Name: LocCode/DeptCode/JobCode, Length: 520, dtype: object"
            ]
          },
          "metadata": {},
          "execution_count": 8
        }
      ],
      "source": [
        "import pandas as pd\n",
        "\n",
        "\n",
        "# Read Excel file from local Drive \n",
        "df = pd.read_excel('/content/drive/MyDrive/Sailpoint_midlevels.xlsx')\n",
        "df['LocCode/DeptCode/JobCode']"
      ]
    },
    {
      "cell_type": "markdown",
      "source": [
        "Splitting a multiple Value Column "
      ],
      "metadata": {
        "id": "P3Zhtojhc_2t"
      }
    },
    {
      "cell_type": "code",
      "source": [
        "df_temp =df['LocCode/DeptCode/JobCode'].str.split(\"/\", expand=True)\n",
        "\n",
        "cols = []\n",
        "\n",
        "for col in df_temp:\n",
        "    df_temptemp = df_temp[col].str.split(\"/\", expand=True)\n",
        "    #print(df_temptemp)\n",
        "    df_temp[col] = df_temptemp[0]\n",
        "    \n",
        "    cols.append(df_temptemp.iloc[0, 0])\n",
        "df_temp.columns = cols\n",
        "\n",
        "print(df_temp)"
      ],
      "metadata": {
        "colab": {
          "base_uri": "https://localhost:8080/"
        },
        "id": "I5I-_YfIZ3yq",
        "outputId": "24a0ab06-af6b-4c7c-8c8a-5f71c6df7ffd"
      },
      "execution_count": null,
      "outputs": [
        {
          "output_type": "stream",
          "name": "stdout",
          "text": [
            "      5000  8946480  S0107\n",
            "0     5000  8946480  S0107\n",
            "1     5000  8946484  S0107\n",
            "2    BMSCH  1001131  H1440\n",
            "3    BMSCH  1001131  H1868\n",
            "4    BMSCH  1001132  S0404\n",
            "..     ...      ...    ...\n",
            "515    SMC  8018030  H1440\n",
            "516    SMC  8018030  H1868\n",
            "517    SMC  8946342  S1628\n",
            "518    SMC  8946342  S1629\n",
            "519    SMC  8946342  S1630\n",
            "\n",
            "[520 rows x 3 columns]\n"
          ]
        }
      ]
    },
    {
      "cell_type": "code",
      "source": [],
      "metadata": {
        "id": "3rQ8piC6aUDr"
      },
      "execution_count": null,
      "outputs": []
    },
    {
      "cell_type": "markdown",
      "source": [
        "Zipping a file"
      ],
      "metadata": {
        "id": "-J0hmGSSaUa_"
      }
    },
    {
      "cell_type": "code",
      "source": [
        "import os \n",
        "from zipfile import ZipFile \n",
        "\n",
        "\n",
        "zipObj= ZipFile('sample.zip', 'w')\n",
        "\n",
        "for file in os.listdir(): \n",
        "    if file.endswith('.txt'):\n",
        "        zipObj.write(file)\n",
        "        \n"
      ],
      "metadata": {
        "id": "_la8_KV6c8zZ"
      },
      "execution_count": null,
      "outputs": []
    }
  ]
}