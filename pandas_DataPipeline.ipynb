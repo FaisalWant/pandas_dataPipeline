{
  "nbformat": 4,
  "nbformat_minor": 0,
  "metadata": {
    "colab": {
      "provenance": [],
      "authorship_tag": "ABX9TyPNo/hU3J3k1/RKZ4mNQ66Q",
      "include_colab_link": true
    },
    "kernelspec": {
      "name": "python3",
      "display_name": "Python 3"
    },
    "language_info": {
      "name": "python"
    }
  },
  "cells": [
    {
      "cell_type": "markdown",
      "metadata": {
        "id": "view-in-github",
        "colab_type": "text"
      },
      "source": [
        "<a href=\"https://colab.research.google.com/github/FaisalWant/pandas_dataPipeline/blob/main/pandas_DataPipeline.ipynb\" target=\"_parent\"><img src=\"https://colab.research.google.com/assets/colab-badge.svg\" alt=\"Open In Colab\"/></a>"
      ]
    },
    {
      "cell_type": "code",
      "execution_count": null,
      "metadata": {
        "id": "g-n_DP7f2ubB"
      },
      "outputs": [],
      "source": [
        "!pip install boto3"
      ]
    },
    {
      "cell_type": "code",
      "source": [
        "import boto3 \n",
        "import pandas as pd\n",
        "from io import StringIO\n",
        "\n"
      ],
      "metadata": {
        "id": "hVzJTfzc222V"
      },
      "execution_count": 3,
      "outputs": []
    },
    {
      "cell_type": "code",
      "source": [
        "s3= boto3.resource('s3') \n",
        "bucket= s3.Bucket('deutsche-boerse-xetra-pds') \n"
      ],
      "metadata": {
        "id": "bJO_n29G3KCr"
      },
      "execution_count": null,
      "outputs": []
    },
    {
      "cell_type": "code",
      "source": [
        "bucket_obj= bucket.objects.filter(Prefix='2021-03-15') \n",
        "objects= [obj for obj in bucket_obj]"
      ],
      "metadata": {
        "id": "XR89sxH13j0N"
      },
      "execution_count": null,
      "outputs": []
    },
    {
      "cell_type": "code",
      "source": [
        "for obj in objects:  \n",
        "  csv_obj= bucket.Object(key='2021-03-15/2021-03-15_BINS_XETR15.csv').get().get('Body').read().decode('utf-8')\n",
        "  data= StringIO(csv_obj) \n",
        "  df= pd.read_csv(data, delimiter=\",\") \n",
        "  df_all = df_all.append(df, ignore_index=True)  "
      ],
      "metadata": {
        "id": "5zzYp-I47umo"
      },
      "execution_count": null,
      "outputs": []
    },
    {
      "cell_type": "code",
      "source": [
        "data = StringIO(csv_obj) \n",
        "\n",
        "df= pd.read_csv(data, delimiter=',') "
      ],
      "metadata": {
        "id": "f5bBe6jC8Dxm"
      },
      "execution_count": null,
      "outputs": []
    },
    {
      "cell_type": "code",
      "source": [
        "import pandas as pd\n",
        "tech_url= \"https://andybek.com/pandas-tech\"\n",
        "tech= pd.read_csv(tech_url) "
      ],
      "metadata": {
        "id": "2MUYCkPPff6X"
      },
      "execution_count": 2,
      "outputs": []
    },
    {
      "cell_type": "code",
      "source": [
        "tech"
      ],
      "metadata": {
        "id": "FVATnWRIf0pE"
      },
      "execution_count": null,
      "outputs": []
    },
    {
      "cell_type": "code",
      "source": [],
      "metadata": {
        "id": "KcA40NEgf2XY"
      },
      "execution_count": null,
      "outputs": []
    }
  ]
}